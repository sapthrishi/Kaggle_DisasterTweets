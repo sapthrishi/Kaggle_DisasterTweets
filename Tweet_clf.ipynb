{
 "cells": [
  {
   "cell_type": "code",
   "execution_count": 1,
   "metadata": {},
   "outputs": [
    {
     "name": "stdout",
     "output_type": "stream",
     "text": [
      "importing Jupyter notebook from My_Transformers.ipynb\n"
     ]
    }
   ],
   "source": [
    "import import_ipynb\n",
    "import logging\n",
    "import numpy as np\n",
    "from optparse import OptionParser\n",
    "import os\n",
    "import sys\n",
    "from time import time\n",
    "import matplotlib.pyplot as plt\n",
    "import random  \n",
    "from random import sample \n",
    "import pandas as pd\n",
    "import pickle\n",
    "import scipy\n",
    "\n",
    "from sklearn.preprocessing import LabelBinarizer\n",
    "from sklearn.model_selection import cross_validate\n",
    "from sklearn.preprocessing import PolynomialFeatures\n",
    "from mlxtend.classifier import StackingClassifier\n",
    "from sklearn.decomposition import PCA, NMF, KernelPCA, LatentDirichletAllocation\n",
    "from sklearn.model_selection import GridSearchCV\n",
    "from sklearn.linear_model import LogisticRegression\n",
    "from sklearn.base import BaseEstimator, TransformerMixin\n",
    "from sklearn.feature_selection import SelectKBest, chi2, mutual_info_classif\n",
    "from sklearn.tree import DecisionTreeClassifier\n",
    "from sklearn.svm import SVC\n",
    "from sklearn.ensemble import AdaBoostClassifier, BaggingClassifier\n",
    "import xgboost as xgb\n",
    "from catboost import CatBoostClassifier, Pool, cv\n",
    "from sklearn.model_selection import train_test_split\n",
    "from sklearn.ensemble import VotingClassifier\n",
    "from sklearn.datasets import fetch_20newsgroups\n",
    "from sklearn.feature_extraction.text import TfidfVectorizer\n",
    "from sklearn.feature_extraction.text import HashingVectorizer\n",
    "from sklearn.feature_selection import SelectFromModel\n",
    "from sklearn.feature_selection import SelectKBest, chi2\n",
    "from sklearn.linear_model import RidgeClassifier\n",
    "from sklearn.pipeline import Pipeline, FeatureUnion\n",
    "from sklearn.svm import LinearSVC\n",
    "from sklearn.linear_model import SGDClassifier\n",
    "from sklearn.linear_model import Perceptron\n",
    "from sklearn.linear_model import PassiveAggressiveClassifier\n",
    "from sklearn.naive_bayes import BernoulliNB, MultinomialNB\n",
    "from sklearn.neighbors import KNeighborsClassifier\n",
    "from sklearn.neighbors import NearestCentroid\n",
    "from sklearn.ensemble import RandomForestClassifier\n",
    "from sklearn.utils.extmath import density\n",
    "from sklearn import metrics\n",
    "\n",
    "from My_Transformers import *\n",
    "# from Word2Vec_Transformer import WVEmbeddingTransformer, Text_cleaner_transformer, EMB_VOCAB_SET, WV_EMBEDDINGS\n",
    "\n",
    "import warnings\n",
    "warnings.filterwarnings(\"ignore\")"
   ]
  },
  {
   "cell_type": "code",
   "execution_count": 2,
   "metadata": {},
   "outputs": [],
   "source": [
    "def pickleSave (obj, file):\n",
    "    \n",
    "    dirs = os.path.dirname (file) \n",
    "    if dirs:\n",
    "        os.makedirs (dirs, exist_ok=True)\n",
    "    with open (file, 'wb') as f:\n",
    "        pickle.dump (obj, f)\n",
    "    return"
   ]
  },
  {
   "cell_type": "code",
   "execution_count": 3,
   "metadata": {},
   "outputs": [],
   "source": [
    "def unpickle (file):\n",
    "    return pickle.load (open (file, 'rb'))"
   ]
  },
  {
   "cell_type": "code",
   "execution_count": 4,
   "metadata": {},
   "outputs": [],
   "source": [
    "def preProcess (rawfile, newFileName):\n",
    "    \n",
    "    df = pd.read_csv (rawfile)\n",
    "    Xstr = df['text']\n",
    "    text_cleaner = Text_cleaner_transformer (isCorrection=True, embedding=WV_EMBEDDINGS)\n",
    "    Xstr = text_cleaner.transform (Xstr)\n",
    "    df['text'] = Xstr\n",
    "    df.to_csv (newFileName)\n",
    "    return"
   ]
  },
  {
   "cell_type": "code",
   "execution_count": 5,
   "metadata": {},
   "outputs": [],
   "source": [
    "train_file = \"Data/train.csv\"\n",
    "df = pd.read_csv (train_file)\n",
    "# df = df[0:20]\n",
    "df['keyword'] = df.keyword.astype(str)\n",
    "keywords_train = list (df['keyword'])\n",
    "LB = LabelBinarizer () \n",
    "LB.fit (keywords_train)\n",
    "LB_loc = LabelBinarizer () \n",
    "df['location'] = LB_loc.fit_transform (list (pd.isnull (df['location'])))"
   ]
  },
  {
   "cell_type": "code",
   "execution_count": null,
   "metadata": {},
   "outputs": [],
   "source": []
  },
  {
   "cell_type": "code",
   "execution_count": 6,
   "metadata": {},
   "outputs": [],
   "source": [
    "Xstr = df[\"text\"]\n",
    "y = df[\"target\"]"
   ]
  },
  {
   "cell_type": "code",
   "execution_count": 7,
   "metadata": {},
   "outputs": [
    {
     "ename": "NameError",
     "evalue": "name 'KPCASparse_FeatureTransformer' is not defined",
     "output_type": "error",
     "traceback": [
      "\u001b[1;31m---------------------------------------------------------------------------\u001b[0m",
      "\u001b[1;31mNameError\u001b[0m                                 Traceback (most recent call last)",
      "\u001b[1;32m<ipython-input-7-28803f2026f5>\u001b[0m in \u001b[0;36m<module>\u001b[1;34m()\u001b[0m\n\u001b[0;32m      9\u001b[0m         \u001b[1;33m(\u001b[0m\u001b[1;34m\"svd_nmf_select\"\u001b[0m\u001b[1;33m,\u001b[0m \u001b[0mSVD_NMF_FeatureTransformer\u001b[0m \u001b[1;33m(\u001b[0m\u001b[1;33m)\u001b[0m\u001b[1;33m)\u001b[0m\u001b[1;33m,\u001b[0m\u001b[1;33m\u001b[0m\u001b[0m\n\u001b[0;32m     10\u001b[0m         \u001b[1;33m(\u001b[0m\u001b[1;34m'lda'\u001b[0m\u001b[1;33m,\u001b[0m            \u001b[0mLDA_FeatureTransformer\u001b[0m \u001b[1;33m(\u001b[0m\u001b[1;33m)\u001b[0m\u001b[1;33m)\u001b[0m\u001b[1;33m,\u001b[0m\u001b[1;33m\u001b[0m\u001b[0m\n\u001b[1;32m---> 11\u001b[1;33m         \u001b[1;33m(\u001b[0m\u001b[1;34m'kpca'\u001b[0m\u001b[1;33m,\u001b[0m           \u001b[0mKPCASparse_FeatureTransformer\u001b[0m \u001b[1;33m(\u001b[0m\u001b[0mkernel\u001b[0m\u001b[1;33m=\u001b[0m\u001b[1;33m[\u001b[0m\u001b[1;34m'rbf'\u001b[0m\u001b[1;33m,\u001b[0m \u001b[1;34m'cosine'\u001b[0m\u001b[1;33m]\u001b[0m\u001b[1;33m,\u001b[0m \u001b[0misSparseOutput\u001b[0m\u001b[1;33m=\u001b[0m\u001b[1;32mTrue\u001b[0m\u001b[1;33m)\u001b[0m\u001b[1;33m)\u001b[0m\u001b[1;33m,\u001b[0m\u001b[1;33m\u001b[0m\u001b[0m\n\u001b[0m\u001b[0;32m     12\u001b[0m         \u001b[1;33m(\u001b[0m\u001b[1;34m'ica'\u001b[0m\u001b[1;33m,\u001b[0m            \u001b[0mICA_FeatureTransformer\u001b[0m \u001b[1;33m(\u001b[0m\u001b[0misSparseOutput\u001b[0m\u001b[1;33m=\u001b[0m\u001b[1;32mTrue\u001b[0m\u001b[1;33m)\u001b[0m\u001b[1;33m)\u001b[0m\u001b[1;33m,\u001b[0m\u001b[1;33m\u001b[0m\u001b[0m\n\u001b[0;32m     13\u001b[0m     ])),\n",
      "\u001b[1;31mNameError\u001b[0m: name 'KPCASparse_FeatureTransformer' is not defined"
     ]
    }
   ],
   "source": [
    "Xstr_transformer = Pipeline ([\n",
    "\n",
    "    ('tfidf_vectorizer', TfidfVectorizer (analyzer='char', ngram_range=(3,7), max_df=0.90, min_df=5, token_pattern='(\\S+)')),\n",
    "    ('sparse_svm_feat_select1',  SparseSVM_feature_selector ()),\n",
    "    ('interactions',             PolynomialFeatures (2, interaction_only=True, include_bias=False)),\n",
    "    ('sparse_svm_feat_select2',  SparseSVM_feature_selector ()),\n",
    "    ('feature_union',   FeatureUnion ([\n",
    "        ('tfidf',          IdentityTransformer()),\n",
    "        (\"svd_nmf_select\", SVD_NMF_FeatureTransformer ()),\n",
    "        ('lda',            LDA_FeatureTransformer ()),\n",
    "        ('kpca',           KPCA_FeatureTransformer (kernel=['rbf', 'cosine'])),\n",
    "        ('ica',            ICA_FeatureTransformer ()),\n",
    "    ])),\n",
    "])"
   ]
  },
  {
   "cell_type": "code",
   "execution_count": null,
   "metadata": {},
   "outputs": [],
   "source": []
  },
  {
   "cell_type": "code",
   "execution_count": null,
   "metadata": {},
   "outputs": [],
   "source": [
    "X = scipy.sparse.hstack ((Xstr_transformer.fit_transform (Xstr, y), LB.transform (keywords_train), LB_loc.transform (list (pd.isnull (df['location'])))))\n",
    "X = X.tocsr ()\n",
    "selectKBest_feature_selector = SelectKBest_feature_selector (score_func=[mutual_info_classif])\n",
    "X = selectKBest_feature_selector.fit_transform (X, y)\n",
    "pickleSave (X, 'X.bin')\n",
    "# X = unpickle ('X.bin')\n",
    "X.shape"
   ]
  },
  {
   "cell_type": "code",
   "execution_count": null,
   "metadata": {},
   "outputs": [],
   "source": [
    "pickleSave (Xstr_transformer, 'Xstr_transformer.bin')\n",
    "# Xstr_transformer = unpickle ('Xstr_transformer.bin')\n",
    "# pickleSave (rf_importance_feature_selector, 'rf_importance_feature_selector.bin')"
   ]
  },
  {
   "cell_type": "code",
   "execution_count": null,
   "metadata": {},
   "outputs": [],
   "source": []
  },
  {
   "cell_type": "code",
   "execution_count": null,
   "metadata": {},
   "outputs": [],
   "source": [
    "# try these classifiers: best = logisticReg cv=73.4%\n",
    "params_lsvc  = { 'name': 'LSvc',  'params': {'penalty': 'l2', 'class_weight': 'balanced'}, \\\n",
    "                                                                  'param_grid': {'C' : [0.005, 0.01, 0.05, 0.1, 1, 10]} }\n",
    "params_logit = { 'name': 'Logit', 'params': {'penalty': 'l2', 'class_weight': 'balanced'}, \\\n",
    "                                               'param_grid': {'C': [0.001, 0.005, 0.01, 0.05, 0.1, 1, 10], 'fit_intercept': [True, False]} }\n",
    "params_rf    = { 'name': 'RF',    'params': {'class_weight': 'balanced'} } \n",
    "params_xgb   = { 'name': 'Xgb',   'param_grid':{'max_depth': [3, 5], 'learning_rate':[1.5, 3]} }\n",
    "params_catb  = { 'name': 'Catb'}\n",
    "\n",
    "\n",
    "params    = [params_lsvc, params_logit, params_catb]\n",
    "bclfs     = []\n",
    "cv_scores = []\n",
    "for param in params:\n",
    "    \n",
    "    bclf = Best_clf_cv_transformer (param)\n",
    "    bclf.fit (X, y) \n",
    "    bclfs.append ((bclf, bclf.get_cv_score()))\n",
    "    cv_scores.append (bclf.get_cv_score())\n",
    "\n",
    "# voting classifier\n",
    "a = 1.0/ np.sum (y)\n",
    "b = 1.0/ (len (y) - np.sum (y))\n",
    "w1 = a/(a+b)\n",
    "w0 = b/(a+b)\n",
    "sample_weight = []\n",
    "for i in y:\n",
    "    if i:\n",
    "        sample_weight.append (w1)\n",
    "    else:\n",
    "        sample_weight.append (w0)\n",
    "\n",
    "voting_candidates = []\n",
    "for param in params:\n",
    "\n",
    "    param['isCV'] = False\n",
    "    bclf = Best_clf_cv_transformer (param)\n",
    "    voting_candidates.append ((bclf.name, bclf))\n",
    "voting_clf = VotingClassifier (estimators=voting_candidates, voting='soft', weights=cv_scores)\n",
    "voting_clf.name = 'Voting'\n",
    "print ('CV for VotingClassifier:')\n",
    "cv_results = cross_validate (voting_clf, X, y, cv=5)  #, fit_params={'sample_weight': sample_weight})\n",
    "voting_clf_cv_score = np.mean (cv_results['test_score'])\n",
    "print ('Voting_clf cv-score =', voting_clf_cv_score)\n",
    "voting_clf.fit (X, y)\n",
    "\n",
    "# save the trained classifiers\n",
    "bclfs.append ((voting_clf, voting_clf_cv_score))\n",
    "pickleSave (bclfs, 'bclfs.bin')\n",
    "# bclfs = unpickle ('bclfs.bin')\n",
    "# Choose the bclf with the best cv_score:\n",
    "bclf = max (bclfs, key = lambda i : i[1])[0]\n",
    "print ('bclf =', bclf)\n",
    "cv_results"
   ]
  },
  {
   "cell_type": "code",
   "execution_count": null,
   "metadata": {},
   "outputs": [],
   "source": []
  },
  {
   "cell_type": "code",
   "execution_count": null,
   "metadata": {},
   "outputs": [],
   "source": [
    "test_file = \"Data/test.csv\"\n",
    "testDF = pd.read_csv (test_file)\n",
    "# testDF = testDF[0:10]\n",
    "testDF['text'] = testDF.text.astype(str)\n",
    "testDF['keyword'] = testDF.keyword.astype(str)\n",
    "X_test_str = testDF[\"text\"]\n",
    "testDF.shape"
   ]
  },
  {
   "cell_type": "code",
   "execution_count": null,
   "metadata": {},
   "outputs": [],
   "source": [
    "X_test = scipy.sparse.hstack ((Xstr_transformer.transform (X_test_str), LB.transform (list (testDF['keyword'])), LB_loc.transform (list (pd.isnull (testDF['location'])))))\n",
    "X_test = X_test.tocsr()\n",
    "X_test = selectKBest_feature_selector.transform (X_test)\n",
    "pickleSave (X_test, 'X_test.bin')\n",
    "X_test.shape"
   ]
  },
  {
   "cell_type": "code",
   "execution_count": null,
   "metadata": {},
   "outputs": [],
   "source": [
    "for bclf in bclfs:\n",
    "    \n",
    "    bclf = bclf[0]\n",
    "    predictions = bclf.predict (X_test)\n",
    "    testDF['target'] = predictions\n",
    "    submitDF = testDF[['id', 'target']]\n",
    "    submitDF.to_csv ('submission_v9_'+bclf.name+'.csv', index=False)"
   ]
  },
  {
   "cell_type": "code",
   "execution_count": null,
   "metadata": {},
   "outputs": [],
   "source": []
  }
 ],
 "metadata": {
  "kernelspec": {
   "display_name": "Python 3",
   "language": "python",
   "name": "python3"
  },
  "language_info": {
   "codemirror_mode": {
    "name": "ipython",
    "version": 3
   },
   "file_extension": ".py",
   "mimetype": "text/x-python",
   "name": "python",
   "nbconvert_exporter": "python",
   "pygments_lexer": "ipython3",
   "version": "3.6.5"
  }
 },
 "nbformat": 4,
 "nbformat_minor": 2
}
