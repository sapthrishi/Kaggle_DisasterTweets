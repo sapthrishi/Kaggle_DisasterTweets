{
 "cells": [
  {
   "cell_type": "code",
   "execution_count": 1,
   "metadata": {},
   "outputs": [
    {
     "name": "stdout",
     "output_type": "stream",
     "text": [
      "importing Jupyter notebook from My_Transformers.ipynb\n",
      "importing Jupyter notebook from Word2Vec_Transformer.ipynb\n"
     ]
    },
    {
     "name": "stderr",
     "output_type": "stream",
     "text": [
      "2020-09-15 10:05:57,548 INFO adding document #0 to Dictionary(0 unique tokens: [])\n",
      "2020-09-15 10:05:57,549 INFO built Dictionary(12 unique tokens: ['computer', 'human', 'interface', 'response', 'survey']...) from 9 documents (total 29 corpus positions)\n"
     ]
    }
   ],
   "source": [
    "import import_ipynb\n",
    "import logging\n",
    "import numpy as np\n",
    "from optparse import OptionParser\n",
    "import os\n",
    "import sys\n",
    "from time import time\n",
    "import matplotlib.pyplot as plt\n",
    "import random  \n",
    "from random import sample \n",
    "import pandas as pd\n",
    "import pickle\n",
    "import scipy\n",
    "from sklearn.preprocessing import LabelBinarizer\n",
    "\n",
    "from sklearn.preprocessing import PolynomialFeatures\n",
    "from mlxtend.classifier import StackingClassifier\n",
    "from sklearn.decomposition import PCA, NMF, KernelPCA, LatentDirichletAllocation\n",
    "from sklearn.model_selection import GridSearchCV\n",
    "from sklearn.linear_model import LogisticRegression\n",
    "from sklearn.base import BaseEstimator, TransformerMixin\n",
    "from sklearn.feature_selection import SelectKBest, chi2, mutual_info_classif\n",
    "from sklearn.tree import DecisionTreeClassifier\n",
    "from sklearn.svm import SVC\n",
    "from sklearn.ensemble import AdaBoostClassifier, BaggingClassifier\n",
    "import xgboost as xgb\n",
    "from catboost import CatBoostClassifier, Pool, cv\n",
    "from sklearn.model_selection import train_test_split\n",
    "from sklearn.ensemble import VotingClassifier\n",
    "from sklearn.datasets import fetch_20newsgroups\n",
    "from sklearn.feature_extraction.text import TfidfVectorizer\n",
    "from sklearn.feature_extraction.text import HashingVectorizer\n",
    "from sklearn.feature_selection import SelectFromModel\n",
    "from sklearn.feature_selection import SelectKBest, chi2\n",
    "from sklearn.linear_model import RidgeClassifier\n",
    "from sklearn.pipeline import Pipeline, FeatureUnion\n",
    "from sklearn.svm import LinearSVC\n",
    "from sklearn.linear_model import SGDClassifier\n",
    "from sklearn.linear_model import Perceptron\n",
    "from sklearn.linear_model import PassiveAggressiveClassifier\n",
    "from sklearn.naive_bayes import BernoulliNB, MultinomialNB\n",
    "from sklearn.neighbors import KNeighborsClassifier\n",
    "from sklearn.neighbors import NearestCentroid\n",
    "from sklearn.ensemble import RandomForestClassifier\n",
    "from sklearn.utils.extmath import density\n",
    "from sklearn import metrics\n",
    "\n",
    "from My_Transformers import *\n",
    "from Word2Vec_Transformer import WVEmbeddingTransformer, Text_cleaner_transformer, EMB_VOCAB_SET, WV_EMBEDDINGS\n",
    "\n",
    "import warnings\n",
    "warnings.filterwarnings(\"ignore\")"
   ]
  },
  {
   "cell_type": "code",
   "execution_count": 2,
   "metadata": {},
   "outputs": [],
   "source": [
    "def pickleSave (obj, file):\n",
    "    \n",
    "    dirs = os.path.dirname (file) \n",
    "    if dirs:\n",
    "        os.makedirs (dirs, exist_ok=True)\n",
    "    with open (file, 'wb') as f:\n",
    "        pickle.dump (obj, f)\n",
    "    return"
   ]
  },
  {
   "cell_type": "code",
   "execution_count": 3,
   "metadata": {},
   "outputs": [],
   "source": [
    "def unpickle (file):\n",
    "    return pickle.load (open (file, 'rb'))"
   ]
  },
  {
   "cell_type": "code",
   "execution_count": 4,
   "metadata": {},
   "outputs": [],
   "source": [
    "def preProcess (rawfile, newFileName):\n",
    "    \n",
    "    df = pd.read_csv (rawfile)\n",
    "    Xstr = df['text']\n",
    "    text_cleaner = Text_cleaner_transformer (isCorrection=True, embedding=WV_EMBEDDINGS)\n",
    "    Xstr = text_cleaner.transform (Xstr)\n",
    "    df['text'] = Xstr\n",
    "    df.to_csv (newFileName)\n",
    "    return"
   ]
  },
  {
   "cell_type": "code",
   "execution_count": 5,
   "metadata": {},
   "outputs": [],
   "source": [
    "train_file = \"Data/train.csv\"\n",
    "preprocessed_train_file = \"Data/preprocessed_train.csv\"\n",
    "# preProcess (train_file, preprocessed_train_file)\n",
    "df = pd.read_csv (preprocessed_train_file)\n",
    "# df = df[0:20]\n",
    "df['keyword'] = df.keyword.astype(str)\n",
    "keywords_train = list (df['keyword'])\n",
    "LB = LabelBinarizer () \n",
    "LB.fit (keywords_train)\n",
    "LB_loc = LabelBinarizer () \n",
    "df['location'] = LB_loc.fit_transform (list (pd.isnull (df['location'])))"
   ]
  },
  {
   "cell_type": "code",
   "execution_count": null,
   "metadata": {},
   "outputs": [],
   "source": []
  },
  {
   "cell_type": "code",
   "execution_count": 6,
   "metadata": {},
   "outputs": [],
   "source": [
    "Xstr = df[\"text\"]\n",
    "y = df[\"target\"]"
   ]
  },
  {
   "cell_type": "code",
   "execution_count": 7,
   "metadata": {},
   "outputs": [
    {
     "name": "stderr",
     "output_type": "stream",
     "text": [
      "2020-09-15 10:05:59,366 INFO loading projection weights from D:/Work/PythonPj/Jupyter/Word2Vec/GoogleNews-vectors-negative300.bin\n",
      "2020-09-15 10:06:20,535 INFO loaded (3000000, 300) matrix from D:/Work/PythonPj/Jupyter/Word2Vec/GoogleNews-vectors-negative300.bin\n"
     ]
    }
   ],
   "source": [
    "Xstr_transformer = FeatureUnion ([\n",
    "    \n",
    "    ('wv_embed', WVEmbeddingTransformer ('D:/Work/PythonPj/Jupyter/Word2Vec/GoogleNews-vectors-negative300.bin', vocabSet=EMB_VOCAB_SET, isCorrection=True)),\n",
    "    ('tfidf_latent', Pipeline ([\n",
    "        \n",
    "        ('text_clean',       Text_cleaner_transformer ()),\n",
    "        ('tfidf_vectorizer', TfidfVectorizer (analyzer='char', ngram_range=(3,7), max_df=0.90, min_df=5, token_pattern='(\\S+)')),\n",
    "        ('interactions',     PolynomialFeatures (2, interaction_only=True, include_bias=False)),\n",
    "        ('tfidf_latent',     FeatureUnion ([\n",
    "            \n",
    "            ('latent', Pipeline ([\n",
    "                \n",
    "                ('feature_union',   FeatureUnion ([\n",
    "                    (\"svd_nmf_select\", SVD_NMF_FeatureTransformer ()),\n",
    "                    ('lda',            LDA_FeatureTransformer ()),\n",
    "                    ('kpca',           KPCASparse_FeatureTransformer (kernel=['rbf'])),\n",
    "                    # ('ica',          ICASparse_FeatureTransformer ()),   # does not works with sparse-matrices\n",
    "                ])),\n",
    "                ('k_best_feat_select_chi2', SelectKBest_feature_selector (score_func=[mutual_info_classif])), # should not be used with -ve vals\n",
    "            ])),\n",
    "            ('tfidf', Pipeline ([\n",
    "                \n",
    "                ('sparse_svm_feat_select',  SparseSVM_feature_selector ()),\n",
    "            ]))\n",
    "        ]))\n",
    "    ]))\n",
    "])"
   ]
  },
  {
   "cell_type": "code",
   "execution_count": null,
   "metadata": {},
   "outputs": [],
   "source": []
  },
  {
   "cell_type": "code",
   "execution_count": null,
   "metadata": {},
   "outputs": [],
   "source": [
    "X = scipy.sparse.hstack ((Xstr_transformer.fit_transform (Xstr, y), LB.transform (keywords_train), LB_loc.transform (list (pd.isnull (df['location'])))))\n",
    "X = X.tocsr()\n",
    "rf_importance_feature_selector = CLF_importance_feature_selector()\n",
    "X = rf_importance_feature_selector.fit_transform (X, y)\n",
    "# pickleSave (X, 'X.bin')\n",
    "# X = unpickle ('X.bin')\n",
    "X.shape"
   ]
  },
  {
   "cell_type": "code",
   "execution_count": null,
   "metadata": {},
   "outputs": [],
   "source": [
    "pickleSave (Xstr_transformer, 'Xstr_transformer.bin')\n",
    "# Xstr_transformer = unpickle ('Xstr_transformer.bin')\n",
    "pickleSave (rf_importance_feature_selector, 'rf_importance_feature_selector.bin')"
   ]
  },
  {
   "cell_type": "code",
   "execution_count": null,
   "metadata": {},
   "outputs": [],
   "source": []
  },
  {
   "cell_type": "code",
   "execution_count": null,
   "metadata": {},
   "outputs": [],
   "source": [
    "# try these classifiers: best = logisticReg cv=73.4%\n",
    "params_logit = { 'name': 'Logit', 'params': {'penalty': 'l2', 'class_weight': 'balanced'}, \\\n",
    "                                               'param_grid': {'C': [0.001, 0.005, 0.01, 0.05, 0.1, 1], 'fit_intercept': [True, False]} }\n",
    "params_rf    = { 'name': 'RF',    'params': {'class_weight': 'balanced'} } \n",
    "params_lsvc  = { 'name': 'LSvc',  'params': {'penalty': 'l2', 'class_weight': 'balanced'}, \\\n",
    "                                                                  'param_grid': {'C' : [0.005, 0.01, 0.05, 0.1, 1]} }\n",
    "params_xgb   = { 'name': 'Xgb',   'param_grid':{'max_depth': [3, 5], 'learning_rate':[1.5, 3]} }\n",
    "params_catb  = { 'name': 'Catb'}\n",
    "params_bnnb  = { 'name': 'BernNB'}\n",
    "params_nerc  = { 'name': 'NearCent'}\n",
    "params_ridc  = { 'name': 'RidgClf'}\n",
    "params_psag  = { 'name': 'PssAggClf'}\n",
    "\n",
    "\n",
    "params = [params_logit, params_rf, params_lsvc, params_xgb, params_catb, params_bnnb, params_nerc, params_ridc, params_psag]\n",
    "bclfs  = []\n",
    "for param in params:\n",
    "    \n",
    "    bclf = Best_clf_cv_transformer (param)\n",
    "    bclf.fit (X, y) \n",
    "    bclfs.append ((bclf, bclf.get_cv_score()))\n",
    "# Choose the bclf with the best cv_score:\n",
    "bclf = max (bclfs, key = lambda i : i[1])[0]\n",
    "pickleSave (bclfs, 'bclfs.bin')\n",
    "# bclfs = unpickle ('bclfs.bin')\n",
    "bclf"
   ]
  },
  {
   "cell_type": "code",
   "execution_count": null,
   "metadata": {},
   "outputs": [],
   "source": [
    "test_file = \"Data/test.csv\"\n",
    "preprocessed_test_file = \"Data/preprocessed_test.csv\"\n",
    "# preProcess (test_file, preprocessed_test_file)"
   ]
  },
  {
   "cell_type": "code",
   "execution_count": null,
   "metadata": {},
   "outputs": [],
   "source": [
    "testDF = pd.read_csv (preprocessed_test_file)\n",
    "# testDF = testDF[0:10]\n",
    "testDF['keyword'] = testDF.keyword.astype(str)\n",
    "testDF.shape"
   ]
  },
  {
   "cell_type": "code",
   "execution_count": null,
   "metadata": {},
   "outputs": [],
   "source": [
    "X_test_str = testDF[\"text\"]\n",
    "X_test = scipy.sparse.hstack ((Xstr_transformer.transform (X_test_str), LB.transform (list (testDF['keyword'])), LB_loc.transform (list (pd.isnull (testDF['location'])))))\n",
    "X_test = X_test.tocsr()\n",
    "X_test = rf_importance_feature_selector.transform (X_test)\n",
    "# pickleSave (X_test, 'X_test.bin')\n",
    "X_test.shape"
   ]
  },
  {
   "cell_type": "code",
   "execution_count": null,
   "metadata": {},
   "outputs": [],
   "source": [
    "for bclf in bclfs:\n",
    "    \n",
    "    bclf = bclf[0]\n",
    "    predictions = bclf.predict (X_test)\n",
    "    testDF['target'] = predictions\n",
    "    submitDF = testDF[['id', 'target']]\n",
    "    submitDF.to_csv ('submission_v4_'+bclf.name+'.csv', index=False)"
   ]
  },
  {
   "cell_type": "code",
   "execution_count": null,
   "metadata": {},
   "outputs": [],
   "source": []
  },
  {
   "cell_type": "code",
   "execution_count": null,
   "metadata": {},
   "outputs": [],
   "source": []
  }
 ],
 "metadata": {
  "kernelspec": {
   "display_name": "Python 3",
   "language": "python",
   "name": "python3"
  },
  "language_info": {
   "codemirror_mode": {
    "name": "ipython",
    "version": 3
   },
   "file_extension": ".py",
   "mimetype": "text/x-python",
   "name": "python",
   "nbconvert_exporter": "python",
   "pygments_lexer": "ipython3",
   "version": "3.6.5"
  }
 },
 "nbformat": 4,
 "nbformat_minor": 2
}
